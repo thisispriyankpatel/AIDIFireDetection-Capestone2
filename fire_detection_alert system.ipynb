{
 "cells": [
  {
   "cell_type": "code",
   "execution_count": 8,
   "id": "2921d526",
   "metadata": {},
   "outputs": [
    {
     "name": "stdout",
     "output_type": "stream",
     "text": [
      "Video Input from Cam 1\n",
      "Video Input from Cam 2\n"
     ]
    },
    {
     "name": "stderr",
     "output_type": "stream",
     "text": [
      "[ WARN:0@2571.110] global /private/var/folders/sy/f16zz6x50xz3113nwtb9bvq00000gp/T/abs_5a1v4y7k9y/croot/opencv-suite_1676472757237/work/modules/videoio/src/cap_gstreamer.cpp (862) isPipelinePlaying OpenCV | GStreamer warning: GStreamer: pipeline have not been created\n",
      "[ WARN:0@2571.244] global /private/var/folders/sy/f16zz6x50xz3113nwtb9bvq00000gp/T/abs_5a1v4y7k9y/croot/opencv-suite_1676472757237/work/modules/videoio/src/cap_gstreamer.cpp (862) isPipelinePlaying OpenCV | GStreamer warning: GStreamer: pipeline have not been created\n",
      "OpenCV: out device of bound (0-0): 1\n",
      "OpenCV: camera failed to properly initialize!\n"
     ]
    },
    {
     "ename": "error",
     "evalue": "OpenCV(4.6.0) /private/var/folders/sy/f16zz6x50xz3113nwtb9bvq00000gp/T/abs_5a1v4y7k9y/croot/opencv-suite_1676472757237/work/modules/imgproc/src/resize.cpp:4052: error: (-215:Assertion failed) !ssize.empty() in function 'resize'\n",
     "output_type": "error",
     "traceback": [
      "\u001b[0;31m---------------------------------------------------------------------------\u001b[0m",
      "\u001b[0;31merror\u001b[0m                                     Traceback (most recent call last)",
      "Cell \u001b[0;32mIn[8], line 34\u001b[0m\n\u001b[1;32m     31\u001b[0m ret2, frame2 \u001b[38;5;241m=\u001b[39m video2\u001b[38;5;241m.\u001b[39mread()\n\u001b[1;32m     33\u001b[0m frame1 \u001b[38;5;241m=\u001b[39m cv2\u001b[38;5;241m.\u001b[39mresize(frame1, (\u001b[38;5;241m500\u001b[39m,\u001b[38;5;241m300\u001b[39m))\n\u001b[0;32m---> 34\u001b[0m frame2 \u001b[38;5;241m=\u001b[39m \u001b[43mcv2\u001b[49m\u001b[38;5;241;43m.\u001b[39;49m\u001b[43mresize\u001b[49m\u001b[43m(\u001b[49m\u001b[43mframe2\u001b[49m\u001b[43m,\u001b[49m\u001b[43m \u001b[49m\u001b[43m(\u001b[49m\u001b[38;5;241;43m500\u001b[39;49m\u001b[43m,\u001b[49m\u001b[38;5;241;43m300\u001b[39;49m\u001b[43m)\u001b[49m\u001b[43m)\u001b[49m\n\u001b[1;32m     36\u001b[0m blur1 \u001b[38;5;241m=\u001b[39m cv2\u001b[38;5;241m.\u001b[39mGaussianBlur(frame1, (\u001b[38;5;241m15\u001b[39m,\u001b[38;5;241m15\u001b[39m),\u001b[38;5;241m0\u001b[39m)\n\u001b[1;32m     37\u001b[0m blur2 \u001b[38;5;241m=\u001b[39m cv2\u001b[38;5;241m.\u001b[39mGaussianBlur(frame2, (\u001b[38;5;241m15\u001b[39m,\u001b[38;5;241m15\u001b[39m),\u001b[38;5;241m0\u001b[39m)\n",
      "\u001b[0;31merror\u001b[0m: OpenCV(4.6.0) /private/var/folders/sy/f16zz6x50xz3113nwtb9bvq00000gp/T/abs_5a1v4y7k9y/croot/opencv-suite_1676472757237/work/modules/imgproc/src/resize.cpp:4052: error: (-215:Assertion failed) !ssize.empty() in function 'resize'\n"
     ]
    }
   ],
   "source": [
    "import cv2\n",
    "import numpy as np\n",
    "import smtplib\n",
    "import threading\n",
    "from geopy.geocoders import Nominatim\n",
    "\n",
    "Email_Status = False\n",
    "\n",
    "def send_mail_function(message):\n",
    "\n",
    "    recipientEmail = \"harshshah3888@gmail.com\"\n",
    "    recipientEmail = recipientEmail.lower()\n",
    "\n",
    "    try:\n",
    "        server = smtplib.SMTP('smtp.gmail.com', 587)\n",
    "        server.ehlo()\n",
    "        server.starttls()\n",
    "        server.login(\"firealert92@gmail.com\", 'isuvsuxgigekbsce')\n",
    "        server.sendmail('firealert92@gmail.com', recipientEmail, message)\n",
    "        print(\"sent to {}\".format(recipientEmail))\n",
    "        server.close()\n",
    "    except Exception as e:\n",
    "    \tprint(e)\n",
    "\n",
    "video1 = cv2.VideoCapture(0)\n",
    "print(\"Video Input from Cam 1\")\n",
    "video2 = cv2.VideoCapture(1)\n",
    "print(\"Video Input from Cam 2\")\n",
    "geolocator = Nominatim(user_agent=\"geoapiExercises\")\n",
    "location = geolocator.reverse(\"{}, {}\".format(*geolocator.geocode(\" \")))\n",
    "print(location.latitude, location.longitude)\n",
    "\n",
    "while True:\n",
    "    ret1, frame1 = video1.read()\n",
    "    ret2, frame2 = video2.read()\n",
    "    \n",
    "    frame1 = cv2.resize(frame1, (500,300))\n",
    "    frame2 = cv2.resize(frame2, (500,300))\n",
    "    \n",
    "    blur1 = cv2.GaussianBlur(frame1, (15,15),0)\n",
    "    blur2 = cv2.GaussianBlur(frame2, (15,15),0)\n",
    "    \n",
    "    hsv1 = cv2.cvtColor(blur1, cv2.COLOR_BGR2HSV)\n",
    "    hsv2 = cv2.cvtColor(frame2, cv2.COLOR_BGR2HSV)\n",
    "    \n",
    "    lower = [22,50,50]\n",
    "    upper = [35,255,255]\n",
    "\n",
    "    lower = np.array(lower, dtype='uint8')\n",
    "    upper = np.array(upper, dtype='uint8')\n",
    "    \n",
    "    mask1 = cv2.inRange(hsv1,lower,upper)\n",
    "    mask2 = cv2.inRange(hsv2,lower,upper)\n",
    "    \n",
    "    output1 = cv2.bitwise_and(frame1,hsv1,mask=mask1)\n",
    "    output2 = cv2.bitwise_and(frame2,hsv2,mask=mask2)\n",
    "    \n",
    "    fire_intensity_1 = cv2.countNonZero(mask1)\n",
    "    if int(fire_intensity_1) > 750:\n",
    "        message = \"Potential Fire detected in vicinity of Camera 1\"\n",
    "        print(message)\n",
    "        Email_Status = False\n",
    "        if Email_Status == False:\n",
    "            threading.Thread(target=send_mail_function(message)).start()\n",
    "            Email_Status = True\n",
    "    fire_intensity_2 = cv2.countNonZero(mask2)\n",
    "    if int(fire_intensity_2) > 750:\n",
    "        message = \"Potential Fire detected in vicinity of Camera 2\"\n",
    "        print(message)\n",
    "        Email_Status = False\n",
    "        if Email_Status == False:\n",
    "            threading.Thread(target=send_mail_function(message)).start()\n",
    "            Email_Status = True\n",
    "            \n",
    "    cv2.imshow(\"Camera 1\", frame1)\n",
    "    cv2.imshow(\"Camera 2\", frame2)\n",
    "    \n",
    "    key = cv2.waitKey(1)\n",
    "    if key==ord('q'):\n",
    "        break\n",
    "        \n",
    "cv2.destroyAllWindows()\n",
    "video1.release()\n",
    "video2.release()"
   ]
  },
  {
   "cell_type": "code",
   "execution_count": null,
   "id": "14377cb8",
   "metadata": {},
   "outputs": [],
   "source": []
  }
 ],
 "metadata": {
  "kernelspec": {
   "display_name": "Python 3 (ipykernel)",
   "language": "python",
   "name": "python3"
  },
  "language_info": {
   "codemirror_mode": {
    "name": "ipython",
    "version": 3
   },
   "file_extension": ".py",
   "mimetype": "text/x-python",
   "name": "python",
   "nbconvert_exporter": "python",
   "pygments_lexer": "ipython3",
   "version": "3.9.16"
  }
 },
 "nbformat": 4,
 "nbformat_minor": 5
}
